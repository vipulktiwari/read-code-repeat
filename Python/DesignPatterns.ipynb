{
 "cells": [
  {
   "cell_type": "markdown",
   "id": "9c87d18c-09b1-4106-aa7e-0c4e7e9f620a",
   "metadata": {},
   "source": [
    "# SOLID DESIGN PRINCIPLES"
   ]
  },
  {
   "cell_type": "markdown",
   "id": "a3de9c84-2df3-416b-b316-01a7e120bca6",
   "metadata": {},
   "source": [
    "#### 1. Single Responsibility Principle\n",
    "This principle states that \"A class should have only one reason to change\" which means every class should have a single responsibility\n",
    "\n",
    "#### 2. Open/Closed Principle\n",
    "This principle states that \"Software entities (classes, modules, functions, etc.) should be open for extension, but closed for modification\" \n",
    "\n",
    "#### 3. Liskov's Substitution Principle\n",
    "Derived or child classes must be substitutable for their base or parent classes.\n",
    "\n",
    "#### 4. Interface Segregation Principle\n",
    "This principle is the first principle that applies to Interfaces instead of classes in SOLID and it is similar to the single responsibility principle. It states that \"do not force any client to implement an interface which is irrelevant to them\".\n",
    "\n",
    "#### 5. Dependency Inversion Principle\n",
    "Depend upon abstractions not concretions"
   ]
  },
  {
   "cell_type": "markdown",
   "id": "a6cdb090-cb01-4431-afe9-e634ceb82f75",
   "metadata": {},
   "source": [
    "## Design Patterns in Python\n",
    "\n",
    "### 1. Singleton design pattern\n",
    "Singleton design pattern is a creational pattern that ensures that a class has only one instance and provide an easy global access to that instance."
   ]
  },
  {
   "cell_type": "code",
   "execution_count": 8,
   "id": "948394f2-258f-4ea3-b33a-6c9204cda0e6",
   "metadata": {},
   "outputs": [],
   "source": [
    "# Classic example of singleton class using lazy loading\n",
    "\n",
    "class ClassicSingleton():\n",
    "\n",
    "    #class level instance variable\n",
    "    _instance = None\n",
    "    #override the init method to restrict class instantiation\n",
    "    def __init__(self):\n",
    "        raise RuntimeError(\"Call getinstance() method instead\")\n",
    "    @classmethod\n",
    "    def getInstance(cls):\n",
    "        if cls._instance == None:\n",
    "            cls._instance = cls.__new__(cls)\n",
    "        return cls._instance\n",
    "        "
   ]
  },
  {
   "cell_type": "code",
   "execution_count": 10,
   "id": "b5d73996-73fb-49cf-99f4-064d4c8631a6",
   "metadata": {},
   "outputs": [
    {
     "ename": "RuntimeError",
     "evalue": "Call getinstance() method instead",
     "output_type": "error",
     "traceback": [
      "\u001b[0;31m---------------------------------------------------------------------------\u001b[0m",
      "\u001b[0;31mRuntimeError\u001b[0m                              Traceback (most recent call last)",
      "Cell \u001b[0;32mIn[10], line 2\u001b[0m\n\u001b[1;32m      1\u001b[0m \u001b[38;5;66;03m# Try getting an instacne with creation\u001b[39;00m\n\u001b[0;32m----> 2\u001b[0m ins \u001b[38;5;241m=\u001b[39m ClassicSingleton()\n",
      "Cell \u001b[0;32mIn[8], line 9\u001b[0m, in \u001b[0;36mClassicSingleton.__init__\u001b[0;34m(self)\u001b[0m\n\u001b[1;32m      8\u001b[0m \u001b[38;5;28;01mdef\u001b[39;00m\u001b[38;5;250m \u001b[39m\u001b[38;5;21m__init__\u001b[39m(\u001b[38;5;28mself\u001b[39m):\n\u001b[0;32m----> 9\u001b[0m     \u001b[38;5;28;01mraise\u001b[39;00m \u001b[38;5;167;01mRuntimeError\u001b[39;00m(\u001b[38;5;124m\"\u001b[39m\u001b[38;5;124mCall getinstance() method instead\u001b[39m\u001b[38;5;124m\"\u001b[39m)\n",
      "\u001b[0;31mRuntimeError\u001b[0m: Call getinstance() method instead"
     ]
    }
   ],
   "source": [
    "# Try getting an instacne with creation\n",
    "ins = ClassicSingleton()"
   ]
  },
  {
   "cell_type": "code",
   "execution_count": 13,
   "id": "8a19ce9d-b80d-4463-873f-712d435dfe8d",
   "metadata": {},
   "outputs": [],
   "source": [
    "ins = ClassicSingleton.getInstance()"
   ]
  },
  {
   "cell_type": "code",
   "execution_count": 14,
   "id": "df21d793-caf8-4f5f-a564-878eaa0c68a8",
   "metadata": {},
   "outputs": [],
   "source": [
    "# Another example of \n",
    "class Singleton:\n",
    "\n",
    "    _instance = None\n",
    "    #override the new method to control the instantiation\n",
    "    def __new__(cls):\n",
    "        if cls._instance == None:\n",
    "            cls._instance = super().__new__(cls)\n",
    "        return cls._instance"
   ]
  },
  {
   "cell_type": "code",
   "execution_count": 17,
   "id": "f683cb60-e906-4a68-bdeb-36243ddfb647",
   "metadata": {},
   "outputs": [],
   "source": [
    "ins1 = Singleton()\n",
    "ins2 = Singleton()"
   ]
  },
  {
   "cell_type": "code",
   "execution_count": 21,
   "id": "17c9a82f-37b0-43f9-8a65-5685191552a5",
   "metadata": {},
   "outputs": [
    {
     "name": "stdout",
     "output_type": "stream",
     "text": [
      "6262908512\n",
      "6262908512\n"
     ]
    }
   ],
   "source": [
    "print(id(ins1))\n",
    "print(id(ins2))"
   ]
  },
  {
   "cell_type": "markdown",
   "id": "472562bf-bed3-4da5-8337-f7e057ab7b9e",
   "metadata": {},
   "source": [
    "#### Metaclass Implementation of Singleton object"
   ]
  },
  {
   "cell_type": "code",
   "execution_count": 50,
   "id": "abc426d8-6d3c-4107-9e8e-aebf9ee0217c",
   "metadata": {},
   "outputs": [],
   "source": [
    "class SingletonMeta(type):\n",
    "\n",
    "    _instances = {}\n",
    "\n",
    "    def __call__(cls):\n",
    "\n",
    "        if cls not in cls._instances:\n",
    "            print(\"Instance created\")\n",
    "            instance = super().__call__()\n",
    "            cls._instances[cls] = instance\n",
    "        return cls._instances[cls]\n",
    "\n",
    "# Actual singleton class with metaclass as SingletonMeta\n",
    "class Singleton(metaclass=SingletonMeta):\n",
    "    def mylogic():\n",
    "        pass"
   ]
  },
  {
   "cell_type": "code",
   "execution_count": 51,
   "id": "326688ea-0b46-4dcf-9080-8bad0b0ab0d6",
   "metadata": {},
   "outputs": [
    {
     "name": "stdout",
     "output_type": "stream",
     "text": [
      "Instance created\n"
     ]
    }
   ],
   "source": [
    "i = Singleton()\n",
    "j = Singleton()"
   ]
  },
  {
   "cell_type": "code",
   "execution_count": 34,
   "id": "9256a059-01d9-4bfd-bb5c-93abbaf986e1",
   "metadata": {},
   "outputs": [
    {
     "name": "stdout",
     "output_type": "stream",
     "text": [
      "6262906832\n",
      "6262906832\n"
     ]
    }
   ],
   "source": [
    "print(id(i))\n",
    "print(id(j))"
   ]
  },
  {
   "cell_type": "markdown",
   "id": "3d6d9a45-3d76-40ec-b139-ba7772db7874",
   "metadata": {},
   "source": [
    "Above all the techniques are lazy loading that means untill someone instantiate the class object instance does not created in memory. The other technique is also used which is called eager loading. Below is an example of eager loading "
   ]
  },
  {
   "cell_type": "code",
   "execution_count": 96,
   "id": "5e65b414-75c2-4936-bc47-50b8092a7eca",
   "metadata": {},
   "outputs": [
    {
     "name": "stdout",
     "output_type": "stream",
     "text": [
      "Instance created\n",
      "Instance created\n"
     ]
    }
   ],
   "source": [
    "class SingletonMeta(type):\n",
    "\n",
    "    _instances = {}\n",
    "\n",
    "    def __init__(cls, name, bases, class_dict):\n",
    "        print(\"Instance created\") \n",
    "        super().__init__(name, bases, class_dict)\n",
    "        instance = super().__call__()\n",
    "        cls._instances[cls] = instance\n",
    "\n",
    "    def __call__(cls):\n",
    "        return cls._instances[cls]\n",
    "\n",
    "# Actual singleton class with metaclass as SingletonMeta\n",
    "class Singleton1(metaclass=SingletonMeta):\n",
    "    def mylogic(self):\n",
    "        pass\n",
    "\n",
    "class Singleton2(metaclass=SingletonMeta):\n",
    "    def mylogic(self):\n",
    "        pass"
   ]
  },
  {
   "cell_type": "markdown",
   "id": "7b3470f2-fe5d-460d-8fb5-da16e6106281",
   "metadata": {},
   "source": [
    "See the output without calling instance creation we have created the instance of the both the derived classes."
   ]
  },
  {
   "cell_type": "code",
   "execution_count": 98,
   "id": "f8005042-9522-46ea-8317-03d1d75ab58e",
   "metadata": {},
   "outputs": [
    {
     "name": "stdout",
     "output_type": "stream",
     "text": [
      "<class '__main__.Singleton1'>\n",
      "<class '__main__.Singleton2'>\n",
      "6262913216\n",
      "6262913216\n",
      "6262913552\n",
      "6262913552\n"
     ]
    }
   ],
   "source": [
    "s1_1 = Singleton1()\n",
    "s1_2 = Singleton1()\n",
    "s2_1 = Singleton2()\n",
    "s2_2 = Singleton2()\n",
    "print(type(s1_1))\n",
    "print(type(s2_1))\n",
    "print(id(s1_1))\n",
    "print(id(s1_2))\n",
    "print(id(s2_1))\n",
    "print(id(s2_2))"
   ]
  },
  {
   "cell_type": "markdown",
   "id": "c3c6e634-fc2e-4b17-842b-fa46b1a454d1",
   "metadata": {},
   "source": [
    "For the above statement there is no creation print. That confirms the instance is already created."
   ]
  },
  {
   "cell_type": "markdown",
   "id": "68d1ea26-fd46-4ee2-ab48-7b535bb7dd62",
   "metadata": {},
   "source": [
    "### 1. Factory method pattern\n",
    "Factory method is a creational pattern that abstract the logic of creation of instances of the classes."
   ]
  },
  {
   "cell_type": "code",
   "execution_count": 6,
   "id": "ddfef78e-2abe-4d66-bbd2-188a72483589",
   "metadata": {},
   "outputs": [],
   "source": [
    "import pygame\n",
    "from abc import ABC, abstractmethod\n",
    "from enum import Enum, auto\n",
    "import random\n",
    "\n",
    "class ShapeType(Enum):\n",
    "    CIRCLE = auto()\n",
    "    RECTANGLE = auto()\n",
    "\n",
    "#base abstract class for shapes\n",
    "class Shapes(ABC):\n",
    "    def __init__(self, x, y):\n",
    "        self.x = x\n",
    "        self.y = y\n",
    "        \n",
    "    @abstractmethod\n",
    "    def draw(self, screen):\n",
    "        pass\n",
    "\n",
    "class Circle(Shapes):\n",
    "    def __init__(self, x, y):\n",
    "        super().__init__(x, y)\n",
    "        self.radius = random.randint(10, 50)\n",
    "        self.color = (random.randint(0,255), random.randint(0,255), random.randint(0,255))\n",
    "\n",
    "    def draw(self, screen):\n",
    "        pygame.draw.circle(screen, self.color, (self.x, self.y), self.radius)\n",
    "\n",
    "class Rectangle(Shapes):\n",
    "    def __init__(self, x, y):\n",
    "        super().__init__(x, y)\n",
    "        self.length = random.randint(10, 50)\n",
    "        self.width = random.randint(10, 50)\n",
    "        self.color = (random.randint(0,255), random.randint(0,255), random.randint(0,255))\n",
    "\n",
    "    def draw(self, screen):\n",
    "        pygame.draw.rect(screen, self.color, (self.x, self.y, self.length, self.width))\n",
    "\n",
    "class ShapeFactory():\n",
    "    @staticmethod\n",
    "    def create_shape(context):\n",
    "        if context.shape_type == ShapeType.CIRCLE:\n",
    "            return Circle(context.x, context.y)\n",
    "        elif context.shape_type == ShapeType.RECTANGLE:\n",
    "            return Rectangle(context.x, context.y)\n",
    "        else:\n",
    "            raise ValueError(\"Invalid shape type\")\n",
    "\n",
    "class ShapeContext():\n",
    "    def __init__(self, stype, x, y):\n",
    "        self.shape_type = stype\n",
    "        self.x = x\n",
    "        self.y = y\n",
    "    \n",
    "# Main function to set up and run the game loop\n",
    "def main():\n",
    "    pygame.init()\n",
    "    screen = pygame.display.set_mode((800, 600))\n",
    "    pygame.display.set_caption(\"Random Shapes\")\n",
    "    clock = pygame.time.Clock()\n",
    "\n",
    "    shape_factory = ShapeFactory()\n",
    "    shapes = []  # List to store created shapes\n",
    "    running = True\n",
    "\n",
    "    # Main game loop\n",
    "    while running:\n",
    "        # Process events\n",
    "        for event in pygame.event.get():\n",
    "            if event.type == pygame.QUIT:\n",
    "                running = False\n",
    "            # Create a random shape on mouse click\n",
    "            elif event.type == pygame.MOUSEBUTTONDOWN:\n",
    "                x, y = pygame.mouse.get_pos()\n",
    "                shape_type = random.choice(list(ShapeType))\n",
    "                context = ShapeContext(shape_type, x, y)\n",
    "                shape = shape_factory.create_shape(context)\n",
    "                shapes.append(shape)\n",
    "\n",
    "        # Clear the screen\n",
    "        screen.fill((255, 255, 255))\n",
    "\n",
    "        # Draw all the shapes\n",
    "        for shape in shapes:\n",
    "            shape.draw(screen)\n",
    "\n",
    "        # Update the display\n",
    "        pygame.display.flip()\n",
    "        clock.tick(60)\n",
    "\n",
    "    pygame.quit()\n",
    "\n",
    "if __name__ == \"__main__\":\n",
    "    #main()\n",
    "    pass\n"
   ]
  },
  {
   "cell_type": "code",
   "execution_count": null,
   "id": "878f3483-d8e4-42bc-aa50-d7e745bed6bd",
   "metadata": {},
   "outputs": [],
   "source": []
  },
  {
   "cell_type": "code",
   "execution_count": null,
   "id": "a71a8bb5-5a69-45a7-8f16-a8bef000ec06",
   "metadata": {},
   "outputs": [],
   "source": []
  },
  {
   "cell_type": "code",
   "execution_count": null,
   "id": "0bca2e8a-d90d-48ae-8c31-624ffaf937c6",
   "metadata": {},
   "outputs": [],
   "source": []
  }
 ],
 "metadata": {
  "kernelspec": {
   "display_name": "Python [conda env:base] *",
   "language": "python",
   "name": "conda-base-py"
  },
  "language_info": {
   "codemirror_mode": {
    "name": "ipython",
    "version": 3
   },
   "file_extension": ".py",
   "mimetype": "text/x-python",
   "name": "python",
   "nbconvert_exporter": "python",
   "pygments_lexer": "ipython3",
   "version": "3.13.5"
  }
 },
 "nbformat": 4,
 "nbformat_minor": 5
}
