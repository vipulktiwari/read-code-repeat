{
 "cells": [
  {
   "cell_type": "markdown",
   "id": "9c87d18c-09b1-4106-aa7e-0c4e7e9f620a",
   "metadata": {},
   "source": [
    "# SOLID DESIGN PRINCIPLES"
   ]
  },
  {
   "cell_type": "markdown",
   "id": "a3de9c84-2df3-416b-b316-01a7e120bca6",
   "metadata": {},
   "source": [
    "#### 1. Single Responsibility Principle\n",
    "This principle states that \"A class should have only one reason to change\" which means every class should have a single responsibility\n",
    "\n",
    "#### 2. Open/Closed Principle\n",
    "This principle states that \"Software entities (classes, modules, functions, etc.) should be open for extension, but closed for modification\" \n",
    "\n",
    "#### 3. Liskov's Substitution Principle\n",
    "Derived or child classes must be substitutable for their base or parent classes.\n",
    "\n",
    "#### 4. Interface Segregation Principle\n",
    "This principle is the first principle that applies to Interfaces instead of classes in SOLID and it is similar to the single responsibility principle. It states that \"do not force any client to implement an interface which is irrelevant to them\".\n",
    "\n",
    "#### 5. Dependency Inversion Principle\n",
    "Depend upon abstractions not concretions"
   ]
  },
  {
   "cell_type": "markdown",
   "id": "a6cdb090-cb01-4431-afe9-e634ceb82f75",
   "metadata": {},
   "source": [
    "## Design Patterns in Python\n",
    "\n",
    "### 1. Singleton design pattern\n",
    "Singleton design pattern is a creational pattern that ensures that a class has only one instance and provide an easy global access to that instance."
   ]
  },
  {
   "cell_type": "code",
   "execution_count": 8,
   "id": "948394f2-258f-4ea3-b33a-6c9204cda0e6",
   "metadata": {},
   "outputs": [],
   "source": [
    "# Classic example of singleton class using lazy loading\n",
    "\n",
    "class ClassicSingleton():\n",
    "\n",
    "    #class level instance variable\n",
    "    _instance = None\n",
    "    #override the init method to restrict class instantiation\n",
    "    def __init__(self):\n",
    "        raise RuntimeError(\"Call getinstance() method instead\")\n",
    "    @classmethod\n",
    "    def getInstance(cls):\n",
    "        if cls._instance == None:\n",
    "            cls._instance = cls.__new__(cls)\n",
    "        return cls._instance\n",
    "        "
   ]
  },
  {
   "cell_type": "code",
   "execution_count": 10,
   "id": "b5d73996-73fb-49cf-99f4-064d4c8631a6",
   "metadata": {},
   "outputs": [
    {
     "ename": "RuntimeError",
     "evalue": "Call getinstance() method instead",
     "output_type": "error",
     "traceback": [
      "\u001b[0;31m---------------------------------------------------------------------------\u001b[0m",
      "\u001b[0;31mRuntimeError\u001b[0m                              Traceback (most recent call last)",
      "Cell \u001b[0;32mIn[10], line 2\u001b[0m\n\u001b[1;32m      1\u001b[0m \u001b[38;5;66;03m# Try getting an instacne with creation\u001b[39;00m\n\u001b[0;32m----> 2\u001b[0m ins \u001b[38;5;241m=\u001b[39m ClassicSingleton()\n",
      "Cell \u001b[0;32mIn[8], line 9\u001b[0m, in \u001b[0;36mClassicSingleton.__init__\u001b[0;34m(self)\u001b[0m\n\u001b[1;32m      8\u001b[0m \u001b[38;5;28;01mdef\u001b[39;00m\u001b[38;5;250m \u001b[39m\u001b[38;5;21m__init__\u001b[39m(\u001b[38;5;28mself\u001b[39m):\n\u001b[0;32m----> 9\u001b[0m     \u001b[38;5;28;01mraise\u001b[39;00m \u001b[38;5;167;01mRuntimeError\u001b[39;00m(\u001b[38;5;124m\"\u001b[39m\u001b[38;5;124mCall getinstance() method instead\u001b[39m\u001b[38;5;124m\"\u001b[39m)\n",
      "\u001b[0;31mRuntimeError\u001b[0m: Call getinstance() method instead"
     ]
    }
   ],
   "source": [
    "# Try getting an instacne with creation\n",
    "ins = ClassicSingleton()"
   ]
  },
  {
   "cell_type": "code",
   "execution_count": 13,
   "id": "8a19ce9d-b80d-4463-873f-712d435dfe8d",
   "metadata": {},
   "outputs": [],
   "source": [
    "ins = ClassicSingleton.getInstance()"
   ]
  },
  {
   "cell_type": "code",
   "execution_count": 14,
   "id": "df21d793-caf8-4f5f-a564-878eaa0c68a8",
   "metadata": {},
   "outputs": [],
   "source": [
    "# Another example of \n",
    "class Singleton:\n",
    "\n",
    "    _instance = None\n",
    "    #override the new method to control the instantiation\n",
    "    def __new__(cls):\n",
    "        if cls._instance == None:\n",
    "            cls._instance = super().__new__(cls)\n",
    "        return cls._instance"
   ]
  },
  {
   "cell_type": "code",
   "execution_count": 17,
   "id": "f683cb60-e906-4a68-bdeb-36243ddfb647",
   "metadata": {},
   "outputs": [],
   "source": [
    "ins1 = Singleton()\n",
    "ins2 = Singleton()"
   ]
  },
  {
   "cell_type": "code",
   "execution_count": 21,
   "id": "17c9a82f-37b0-43f9-8a65-5685191552a5",
   "metadata": {},
   "outputs": [
    {
     "name": "stdout",
     "output_type": "stream",
     "text": [
      "6262908512\n",
      "6262908512\n"
     ]
    }
   ],
   "source": [
    "print(id(ins1))\n",
    "print(id(ins2))"
   ]
  },
  {
   "cell_type": "markdown",
   "id": "472562bf-bed3-4da5-8337-f7e057ab7b9e",
   "metadata": {},
   "source": [
    "#### Metaclass Implementation of Singleton object"
   ]
  },
  {
   "cell_type": "code",
   "execution_count": 26,
   "id": "abc426d8-6d3c-4107-9e8e-aebf9ee0217c",
   "metadata": {},
   "outputs": [],
   "source": [
    "class SingletonMeta(type):\n",
    "\n",
    "    _instances = {}\n",
    "\n",
    "    def __call__(cls):\n",
    "\n",
    "        if cls not in cls._instances:\n",
    "            instance = super().__call__()\n",
    "            cls._instances[cls] = instance\n",
    "        return cls._instances[cls]\n",
    "\n",
    "# Actual singleton class with metaclass as SingletonMeta\n",
    "class Singleton(metaclass=SingletonMeta):\n",
    "    def mylogic():\n",
    "        pass"
   ]
  },
  {
   "cell_type": "code",
   "execution_count": 33,
   "id": "326688ea-0b46-4dcf-9080-8bad0b0ab0d6",
   "metadata": {},
   "outputs": [],
   "source": [
    "i = Singleton()\n",
    "j = Singleton()"
   ]
  },
  {
   "cell_type": "code",
   "execution_count": 34,
   "id": "9256a059-01d9-4bfd-bb5c-93abbaf986e1",
   "metadata": {},
   "outputs": [
    {
     "name": "stdout",
     "output_type": "stream",
     "text": [
      "6262906832\n",
      "6262906832\n"
     ]
    }
   ],
   "source": [
    "print(id(i))\n",
    "print(id(j))"
   ]
  },
  {
   "cell_type": "code",
   "execution_count": null,
   "id": "ecc33543-2b35-4b8e-a651-42a058ff3570",
   "metadata": {},
   "outputs": [],
   "source": []
  }
 ],
 "metadata": {
  "kernelspec": {
   "display_name": "Python [conda env:base] *",
   "language": "python",
   "name": "conda-base-py"
  },
  "language_info": {
   "codemirror_mode": {
    "name": "ipython",
    "version": 3
   },
   "file_extension": ".py",
   "mimetype": "text/x-python",
   "name": "python",
   "nbconvert_exporter": "python",
   "pygments_lexer": "ipython3",
   "version": "3.13.5"
  }
 },
 "nbformat": 4,
 "nbformat_minor": 5
}
