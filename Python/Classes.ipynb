{
 "cells": [
  {
   "cell_type": "markdown",
   "id": "be9de0e3-6cd8-4359-8068-555ca12a7640",
   "metadata": {},
   "source": [
    "# Classes in Python"
   ]
  },
  {
   "cell_type": "code",
   "execution_count": 30,
   "id": "9e8d7d4a-c822-48bc-92f2-60e11d4f1c2b",
   "metadata": {},
   "outputs": [],
   "source": [
    "class Animal():\n",
    "    def __init__(self, name):\n",
    "        self.name = name\n",
    "        print(\"Animal created\")\n",
    "\n",
    "    def who_am_i(self):\n",
    "        print(\"I am an animal\")\n",
    "\n",
    "    def eat(self):\n",
    "        print(\"I am eating\")"
   ]
  },
  {
   "cell_type": "code",
   "execution_count": 9,
   "id": "6befd86a-8c9e-4fa9-bf16-43db8c6736ad",
   "metadata": {},
   "outputs": [
    {
     "name": "stdout",
     "output_type": "stream",
     "text": [
      "Animal created\n"
     ]
    }
   ],
   "source": [
    "dog = Animal()"
   ]
  },
  {
   "cell_type": "code",
   "execution_count": 4,
   "id": "ada9934a-bfec-463e-9ec8-202689e7ad12",
   "metadata": {},
   "outputs": [
    {
     "name": "stdout",
     "output_type": "stream",
     "text": [
      "I am eating\n"
     ]
    }
   ],
   "source": [
    "dog.eat()"
   ]
  },
  {
   "cell_type": "code",
   "execution_count": 10,
   "id": "4540e99a-4e4e-47d6-9405-b35363912776",
   "metadata": {},
   "outputs": [
    {
     "name": "stdout",
     "output_type": "stream",
     "text": [
      "I am an animal\n"
     ]
    }
   ],
   "source": [
    "dog.who_am_i()"
   ]
  },
  {
   "cell_type": "code",
   "execution_count": 31,
   "id": "e3caef5f-6d28-40f3-812c-318017ddc34b",
   "metadata": {},
   "outputs": [],
   "source": [
    "class Dog(Animal):\n",
    "\n",
    "    def who_am_i(self):\n",
    "        print(f\"I am a dog {self.name}\")"
   ]
  },
  {
   "cell_type": "code",
   "execution_count": 32,
   "id": "213ec229-b386-48bc-8874-47d5f697435e",
   "metadata": {},
   "outputs": [
    {
     "name": "stdout",
     "output_type": "stream",
     "text": [
      "Animal created\n"
     ]
    }
   ],
   "source": [
    "dog = Dog(\"fido\")"
   ]
  },
  {
   "cell_type": "code",
   "execution_count": 35,
   "id": "17e192ec-75f2-4fa5-94ef-41cb04ca1f4b",
   "metadata": {},
   "outputs": [
    {
     "name": "stdout",
     "output_type": "stream",
     "text": [
      "I am eating\n"
     ]
    }
   ],
   "source": [
    "dog.eat()"
   ]
  },
  {
   "cell_type": "code",
   "execution_count": 33,
   "id": "467806b8-f8aa-41cd-a51e-c2351592bbcc",
   "metadata": {},
   "outputs": [
    {
     "name": "stdout",
     "output_type": "stream",
     "text": [
      "I am a dog fido\n"
     ]
    }
   ],
   "source": [
    "dog.who_am_i()"
   ]
  },
  {
   "cell_type": "markdown",
   "id": "321b0419-8d07-40a8-a253-47b115d007f7",
   "metadata": {},
   "source": [
    "#### Abstract classes and methods"
   ]
  },
  {
   "cell_type": "code",
   "execution_count": 2,
   "id": "13016167-b8f8-45d8-8a74-caddfdcc325b",
   "metadata": {},
   "outputs": [
    {
     "ename": "TypeError",
     "evalue": "Can't instantiate abstract class Dog without an implementation for abstract method 'speak'",
     "output_type": "error",
     "traceback": [
      "\u001b[0;31m---------------------------------------------------------------------------\u001b[0m",
      "\u001b[0;31mTypeError\u001b[0m                                 Traceback (most recent call last)",
      "Cell \u001b[0;32mIn[2], line 12\u001b[0m\n\u001b[1;32m      9\u001b[0m     \u001b[38;5;28;01mdef\u001b[39;00m\u001b[38;5;250m \u001b[39m\u001b[38;5;21m__init__\u001b[39m(\u001b[38;5;28mself\u001b[39m, name):\n\u001b[1;32m     10\u001b[0m         \u001b[38;5;28mself\u001b[39m\u001b[38;5;241m.\u001b[39mname \u001b[38;5;241m=\u001b[39m name\n\u001b[0;32m---> 12\u001b[0m d \u001b[38;5;241m=\u001b[39m Dog(\u001b[38;5;124m\"\u001b[39m\u001b[38;5;124mShephard\u001b[39m\u001b[38;5;124m\"\u001b[39m)\n",
      "\u001b[0;31mTypeError\u001b[0m: Can't instantiate abstract class Dog without an implementation for abstract method 'speak'"
     ]
    }
   ],
   "source": [
    "from abc import ABC, abstractmethod\n",
    "\n",
    "class Animal(ABC):\n",
    "    @abstractmethod\n",
    "    def speak(self):\n",
    "        pass\n",
    "\n",
    "class Dog(Animal):\n",
    "    def __init__(self, name):\n",
    "        self.name = name\n",
    "\n",
    "d = Dog(\"Shephard\")"
   ]
  },
  {
   "cell_type": "markdown",
   "id": "48f53cad-683c-479d-8f84-ebfabb7614ca",
   "metadata": {},
   "source": [
    "Let's implement a cache mechanism using abstract class and methods"
   ]
  },
  {
   "cell_type": "code",
   "execution_count": 15,
   "id": "639d1277-2dd2-41be-b68c-293675f56694",
   "metadata": {},
   "outputs": [
    {
     "name": "stdout",
     "output_type": "stream",
     "text": [
      "LRU Cache Demo\n",
      "1\n",
      "-1\n",
      "\n",
      "LFU Cache Demo\n",
      "1\n",
      "-1\n",
      "3\n"
     ]
    }
   ],
   "source": [
    "from abc import ABC, abstractmethod\n",
    "from collections import OrderedDict, defaultdict\n",
    "import heapq\n",
    "\n",
    "class Cache(ABC):\n",
    "    @abstractmethod\n",
    "    def get(self, key):\n",
    "        pass\n",
    "    @abstractmethod\n",
    "    def put(self, key, value):\n",
    "        pass\n",
    "\n",
    "class LRUCache(Cache):\n",
    "\n",
    "    def __init__(self, capacity):\n",
    "        self.cache = OrderedDict()\n",
    "        self.capacity = capacity\n",
    "\n",
    "    def get(self, key):\n",
    "        if key not in self.cache.keys():\n",
    "            return -1\n",
    "        self.cache.move_to_end(key)\n",
    "        return self.cache[key]\n",
    "\n",
    "    def put(self, key, val):\n",
    "        if key in self.cache.keys():\n",
    "            self.cache.move_to_end(key)\n",
    "        if len(self.cache) >= self.capacity:\n",
    "            self.cache.popitem(last=False)\n",
    "        self.cache[key] = val\n",
    "        return True\n",
    "\n",
    "class LFUCache(Cache):\n",
    "\n",
    "    def __init__(self, capacity):\n",
    "        self.cache = {}\n",
    "        self.freq = defaultdict(int)\n",
    "        self.pq = []\n",
    "        self.capacity = capacity\n",
    "\n",
    "    def get(self, key):\n",
    "        if key not in self.cache.keys():\n",
    "            return -1\n",
    "        self.freq[key] += 1\n",
    "        heapq.heappush(self.pq, (self.freq[key], key))\n",
    "        return self.cache[key]\n",
    "\n",
    "    def put(self, key, val):\n",
    "        if key in self.cache.keys():\n",
    "            return True\n",
    "        if len(self.cache) >= self.capacity:\n",
    "            while self.pq:\n",
    "                freq, ekey = heapq.heappop(self.pq)\n",
    "                if self.freq[ekey] == freq:\n",
    "                    del self.freq[ekey]\n",
    "                    del self.cache[ekey]\n",
    "                    break\n",
    "                \n",
    "        self.cache[key] = val\n",
    "        self.freq[key] = 1\n",
    "        heapq.heappush(self.pq, (self.freq[key], key))\n",
    "        return True\n",
    "\n",
    "def demo():\n",
    "    print(\"LRU Cache Demo\")\n",
    "    lru = LRUCache(2)\n",
    "    lru.put(1, 1)\n",
    "    lru.put(2, 2)\n",
    "    print(lru.get(1))  # 1\n",
    "    lru.put(3, 3)      # evicts 2\n",
    "    print(lru.get(2))  # -1\n",
    "\n",
    "    print(\"\\nLFU Cache Demo\")\n",
    "    lfu = LFUCache(2)\n",
    "    lfu.put(1, 1)\n",
    "    lfu.put(2, 2)\n",
    "    print(lfu.get(1))  # 1 -> increases frequency\n",
    "    lfu.put(3, 3)      # evicts key 2 (lower freq than 1)\n",
    "    print(lfu.get(2))  # -1\n",
    "    \n",
    "    print(lfu.get(3))  # 3\n",
    "\n",
    "\n",
    "if __name__ == \"__main__\":\n",
    "    demo()\n"
   ]
  },
  {
   "cell_type": "code",
   "execution_count": null,
   "id": "a23308d8-0001-4acc-9435-370db8aaa823",
   "metadata": {},
   "outputs": [],
   "source": []
  }
 ],
 "metadata": {
  "kernelspec": {
   "display_name": "Python [conda env:base] *",
   "language": "python",
   "name": "conda-base-py"
  },
  "language_info": {
   "codemirror_mode": {
    "name": "ipython",
    "version": 3
   },
   "file_extension": ".py",
   "mimetype": "text/x-python",
   "name": "python",
   "nbconvert_exporter": "python",
   "pygments_lexer": "ipython3",
   "version": "3.13.5"
  }
 },
 "nbformat": 4,
 "nbformat_minor": 5
}
