{
 "cells": [
  {
   "cell_type": "code",
   "execution_count": 8,
   "id": "7ce19c06-962b-45e5-ab5e-1bb26004e8e8",
   "metadata": {},
   "outputs": [],
   "source": [
    "def create_cubes(n):\n",
    "    for i in range(n):\n",
    "        yield i**3\n"
   ]
  },
  {
   "cell_type": "code",
   "execution_count": 9,
   "id": "c61b04fc-bb0c-4750-a0f7-fdc488d3f71a",
   "metadata": {},
   "outputs": [
    {
     "data": {
      "text/plain": [
       "<generator object create_cubes at 0x118a47d30>"
      ]
     },
     "execution_count": 9,
     "metadata": {},
     "output_type": "execute_result"
    }
   ],
   "source": [
    "create_cubes(10)"
   ]
  },
  {
   "cell_type": "code",
   "execution_count": 10,
   "id": "ddbc3683-594c-44ef-883d-5b004445c651",
   "metadata": {},
   "outputs": [
    {
     "name": "stdout",
     "output_type": "stream",
     "text": [
      "0\n",
      "1\n",
      "8\n",
      "27\n",
      "64\n",
      "125\n",
      "216\n",
      "343\n",
      "512\n",
      "729\n"
     ]
    }
   ],
   "source": [
    "for i in create_cubes(10):\n",
    "    print(i)"
   ]
  },
  {
   "cell_type": "code",
   "execution_count": 55,
   "id": "40d71f18-9818-4bc7-970a-cc8b724755d6",
   "metadata": {},
   "outputs": [],
   "source": [
    "import functools\n",
    "def gen_func(original_function):\n",
    "    @functools.wraps(original_function)\n",
    "    def ase():\n",
    "        print(\"before original function\")\n",
    "        original_function()\n",
    "        print(\"after original_function\")\n",
    "    return ase"
   ]
  },
  {
   "cell_type": "code",
   "execution_count": 56,
   "id": "9f208e0a-49a5-4ee3-a47c-cdf74d4e6f81",
   "metadata": {},
   "outputs": [],
   "source": [
    "@gen_func\n",
    "def test_func():\n",
    "    \"\"\"This is a test func\"\"\"\n",
    "    print(\"inside test_func()\")"
   ]
  },
  {
   "cell_type": "code",
   "execution_count": 57,
   "id": "8fbb3816-4e93-41e3-b236-cbc026d93aa0",
   "metadata": {},
   "outputs": [
    {
     "name": "stdout",
     "output_type": "stream",
     "text": [
      "This is a test func\n"
     ]
    }
   ],
   "source": [
    "print(test_func.__doc__)"
   ]
  },
  {
   "cell_type": "code",
   "execution_count": 59,
   "id": "6a032a3c-2ead-4eb4-bca8-5597c3cec750",
   "metadata": {},
   "outputs": [
    {
     "name": "stdout",
     "output_type": "stream",
     "text": [
      "before original function\n",
      "inside test_func()\n",
      "after original_function\n"
     ]
    }
   ],
   "source": [
    "test_func()"
   ]
  },
  {
   "cell_type": "code",
   "execution_count": 72,
   "id": "aae6b5b3-91b2-41e2-8c5e-f0ff0a083879",
   "metadata": {},
   "outputs": [],
   "source": [
    "class Addstr:\n",
    "    def __init__(self, cls):\n",
    "        self.cls = cls\n",
    "\n",
    "    def __call__(self, *args, **kwargs):\n",
    "\n",
    "        instance = self.cls(*args, **kwargs)\n",
    "\n",
    "        def __str__(self_inner):\n",
    "            return (f\"{self.cls.__name__} instance : {self_inner.__dict__}\")\n",
    "\n",
    "        setattr(self.cls, '__str__', __str__)\n",
    "        return instance\n",
    "\n",
    "@Addstr\n",
    "class Myclass:\n",
    "    def __init__(myself, name, age):\n",
    "        myself.name = name \n",
    "        myself.age = age\n",
    "            "
   ]
  },
  {
   "cell_type": "code",
   "execution_count": 73,
   "id": "4c0443cc-e913-4fe3-bc08-7bf7a56a7d17",
   "metadata": {},
   "outputs": [
    {
     "name": "stdout",
     "output_type": "stream",
     "text": [
      "Myclass instance : {'name': 'vkt', 'age': 32}\n"
     ]
    }
   ],
   "source": [
    "print(Myclass(\"vkt\",32))"
   ]
  },
  {
   "cell_type": "markdown",
   "id": "4b279d77-ec04-4870-998f-01c23dbb1bb4",
   "metadata": {},
   "source": [
    "# Rubrik Interview Question"
   ]
  },
  {
   "cell_type": "code",
   "execution_count": 13,
   "id": "24c0f94c-5303-4f51-9543-c7ad2f61e286",
   "metadata": {},
   "outputs": [
    {
     "name": "stdout",
     "output_type": "stream",
     "text": [
      "Enqueued item 0 Queue : [0, None, None, None, None]\n",
      "Enqueued item 1 Queue : [0, 1, None, None, None]\n",
      "Enqueued item 2 Queue : [0, 1, None, 2, None]\n",
      "Enqueued item 3 Queue : [0, 3, None, 2, None]\n",
      "Enqueued item 4 Queue : [4, 3, None, 2, None]\n",
      "Enqueued item 5 Queue : [5, 3, None, 2, None]\n",
      "Enqueued item 6 Queue : [5, 6, None, 2, None]\n",
      "Enqueued item 7 Queue : [5, 6, None, 7, None]\n",
      "Dequeued item 7 Queue : [5, 6, None, None, None]\n",
      "Dequeued item None Queue : [5, 6, None, None, None]\n",
      "Dequeued item 5 Queue : [None, 6, None, None, None]\n",
      "Dequeued item 6 Queue : [None, None, None, None, None]\n",
      "Dequeued item None Queue : [None, None, None, None, None]\n",
      "Dequeued item None Queue : [None, None, None, None, None]\n",
      "Dequeued item None Queue : [None, None, None, None, None]\n",
      "Dequeued item None Queue : [None, None, None, None, None]\n"
     ]
    }
   ],
   "source": [
    "from threading import Thread\n",
    "from threading import Condition\n",
    "import time\n",
    "\n",
    "class ProducerConsumer:\n",
    "    def __init__(self, capacity=5):\n",
    "        self.capacity = capacity\n",
    "        self.queue = [None] * capacity\n",
    "        self.head = 0\n",
    "        self.count = 0\n",
    "\n",
    "    def enqueue(self, item):\n",
    "        pos = (self.head + self.count) % self.capacity\n",
    "        self.queue[pos] = item\n",
    "        self.count += 1\n",
    "        self.head = pos\n",
    "        print(f\"Enqueued item {item} Queue : {self.queue}\")\n",
    "        self.simulateDelay()\n",
    "\n",
    "    def dequeue(self):\n",
    "        pos = self.head\n",
    "        item = self.queue[pos]\n",
    "        self.queue[pos] = None\n",
    "        self.count -= 1\n",
    "        self.head = (self.head + 1) % self.capacity\n",
    "        print(f\"Dequeued item {item} Queue : {self.queue}\")\n",
    "        self.simulateDelay()\n",
    "\n",
    "    def simulateDelay(self):\n",
    "        time.sleep(0.1)\n",
    "\n",
    "def main():\n",
    "    p = ProducerConsumer(5)\n",
    "    for i in range(8):\n",
    "        t = Thread(target=p.enqueue, args=(i,))\n",
    "        t.start()\n",
    "    for _ in range(8):\n",
    "        t = Thread(target=p.dequeue)\n",
    "        t.start()\n",
    "\n",
    "main()\n",
    "        "
   ]
  },
  {
   "cell_type": "markdown",
   "id": "64f08b0a-87c2-4240-922d-5ac3d10ce4fd",
   "metadata": {},
   "source": [
    "## Solution of above"
   ]
  },
  {
   "cell_type": "code",
   "execution_count": 5,
   "id": "74309351-741e-41c0-a722-b0622ea86b49",
   "metadata": {},
   "outputs": [
    {
     "name": "stdout",
     "output_type": "stream",
     "text": [
      "Enqueued item 0 Queue : [None, 0, None, None, None]\n",
      "Enqueued item 1 Queue : [None, 0, 1, None, None]\n",
      "Enqueued item 2 Queue : [None, 0, 1, 2, None]\n",
      "Enqueued item 3 Queue : [None, 0, 1, 2, 3]\n",
      "Enqueued item 4 Queue : [4, 0, 1, 2, 3]\n",
      "Dequeued item 4 Queue : [None, 0, 1, 2, 3]\n",
      "Dequeued item 0 Queue : [None, None, 1, 2, 3]\n",
      "Dequeued item 1 Queue : [None, None, None, 2, 3]\n",
      "Dequeued item 2 Queue : [None, None, None, None, 3]\n",
      "Dequeued item 3 Queue : [None, None, None, None, None]\n",
      "Enqueued item 5 Queue : [None, 5, None, None, None]\n",
      "Enqueued item 6 Queue : [None, 5, 6, None, None]\n",
      "Enqueued item 7 Queue : [None, 5, 6, 7, None]\n",
      "Dequeued item None Queue : [None, 5, 6, 7, None]\n",
      "Dequeued item 5 Queue : [None, None, 6, 7, None]\n",
      "Dequeued item 6 Queue : [None, None, None, 7, None]\n"
     ]
    }
   ],
   "source": [
    "from threading import Thread\n",
    "from threading import Condition\n",
    "import time\n",
    "\n",
    "cond = Condition()\n",
    "\n",
    "class ProducerConsumer:\n",
    "    def __init__(self, capacity=5):\n",
    "        self.capacity = capacity\n",
    "        self.queue = [None] * capacity\n",
    "        self.head = 0\n",
    "        self.tail = 0\n",
    "        self.count = 0\n",
    "        self.cond = Condition()\n",
    "\n",
    "    def enqueue(self, item):\n",
    "        with self.cond:\n",
    "            while self.count >= self.capacity:\n",
    "                self.cond.wait()\n",
    "            pos = (self.head + 1) % self.capacity\n",
    "            self.queue[pos] = item\n",
    "            self.count += 1\n",
    "            self.head = pos\n",
    "            print(f\"Enqueued item {item} Queue : {self.queue}\")\n",
    "            self.simulateDelay()\n",
    "            self.cond.notify_all()\n",
    "\n",
    "    def dequeue(self):\n",
    "        with self.cond:\n",
    "            while self.count <= 0:\n",
    "                self.cond.wait()\n",
    "            pos = self.tail\n",
    "            item = self.queue[pos]\n",
    "            self.queue[pos] = None\n",
    "            self.count -= 1\n",
    "            self.tail = (self.tail + 1) % self.capacity\n",
    "            print(f\"Dequeued item {item} Queue : {self.queue}\")\n",
    "            self.simulateDelay()\n",
    "            self.cond.notify_all()\n",
    "\n",
    "    def simulateDelay(self):\n",
    "        time.sleep(0.5)\n",
    "\n",
    "def main():\n",
    "    p = ProducerConsumer(5)\n",
    "    threads = []\n",
    "    for i in range(8):\n",
    "        t = Thread(target=p.enqueue, args=(i,))\n",
    "        t.start()\n",
    "        threads.append(t)\n",
    "    for _ in range(8):\n",
    "        t = Thread(target=p.dequeue)\n",
    "        t.start()\n",
    "        threads.append(t)\n",
    "    for t in threads:\n",
    "        t.join()\n",
    "main()\n",
    "        \n"
   ]
  },
  {
   "cell_type": "code",
   "execution_count": 3,
   "id": "b497a96b-478b-4998-89a0-f8721f551797",
   "metadata": {},
   "outputs": [
    {
     "name": "stdout",
     "output_type": "stream",
     "text": [
      "[Producer] Enqueued 0 | Queue: [0, None, None, None, None]\n",
      "[Producer] Enqueued 1 | Queue: [0, 1, None, None, None]\n",
      "[Producer] Enqueued 2 | Queue: [0, 1, 2, None, None]\n",
      "[Producer] Enqueued 3 | Queue: [0, 1, 2, 3, None]\n",
      "[Producer] Enqueued 4 | Queue: [0, 1, 2, 3, 4]\n",
      "[Consumer] Dequeued 0 | Queue: [None, 1, 2, 3, 4]\n",
      "[Consumer] Dequeued 1 | Queue: [None, None, 2, 3, 4]\n",
      "[Consumer] Dequeued 2 | Queue: [None, None, None, 3, 4]\n",
      "[Consumer] Dequeued 3 | Queue: [None, None, None, None, 4]\n",
      "[Consumer] Dequeued 4 | Queue: [None, None, None, None, None]\n",
      "[Producer] Enqueued 5 | Queue: [5, None, None, None, None]\n",
      "[Producer] Enqueued 6 | Queue: [5, 6, None, None, None]\n",
      "[Producer] Enqueued 7 | Queue: [5, 6, 7, None, None]\n",
      "[Consumer] Dequeued 5 | Queue: [None, 6, 7, None, None]\n",
      "[Consumer] Dequeued 6 | Queue: [None, None, 7, None, None]\n",
      "[Consumer] Dequeued 7 | Queue: [None, None, None, None, None]\n"
     ]
    }
   ],
   "source": [
    "from threading import Thread, Lock\n",
    "import time\n",
    "\n",
    "class ProducerConsumer:\n",
    "    def __init__(self, capacity=5):\n",
    "        self.capacity = capacity\n",
    "        self.queue = [None] * capacity\n",
    "        self.head = 0  # Next position to dequeue\n",
    "        self.tail = 0  # Next position to enqueue\n",
    "        self.count = 0\n",
    "        self.lock = Lock()\n",
    "\n",
    "    def enqueue(self, item):\n",
    "        while True:\n",
    "            with self.lock:\n",
    "                if self.count < self.capacity:\n",
    "                    self.queue[self.tail] = item\n",
    "                    self.tail = (self.tail + 1) % self.capacity\n",
    "                    self.count += 1\n",
    "                    print(f\"[Producer] Enqueued {item} | Queue: {self.queue}\")\n",
    "                    break\n",
    "            # Sleep a bit before retrying to avoid busy waiting\n",
    "            time.sleep(0.01)\n",
    "        self.simulateDelay()\n",
    "\n",
    "    def dequeue(self):\n",
    "        while True:\n",
    "            with self.lock:\n",
    "                if self.count > 0:\n",
    "                    item = self.queue[self.head]\n",
    "                    self.queue[self.head] = None\n",
    "                    self.head = (self.head + 1) % self.capacity\n",
    "                    self.count -= 1\n",
    "                    print(f\"[Consumer] Dequeued {item} | Queue: {self.queue}\")\n",
    "                    break\n",
    "            time.sleep(0.01)\n",
    "        self.simulateDelay()\n",
    "\n",
    "    def simulateDelay(self):\n",
    "        time.sleep(0.1)\n",
    "\n",
    "def main():\n",
    "    p = ProducerConsumer(5)\n",
    "\n",
    "    # Start consumers first\n",
    "    for _ in range(8):\n",
    "        Thread(target=p.dequeue).start()\n",
    "\n",
    "    # Start producers\n",
    "    for i in range(8):\n",
    "        Thread(target=p.enqueue, args=(i,)).start()\n",
    "\n",
    "main()"
   ]
  },
  {
   "cell_type": "code",
   "execution_count": null,
   "id": "6dcba96d-4519-4e1a-89e2-a8952a0816f9",
   "metadata": {},
   "outputs": [],
   "source": []
  },
  {
   "cell_type": "code",
   "execution_count": null,
   "id": "6bfd2cb2-3c64-4f46-acb6-b92bc3defb77",
   "metadata": {},
   "outputs": [],
   "source": []
  },
  {
   "cell_type": "code",
   "execution_count": null,
   "id": "1aa02033-81e2-4d0e-a1f3-d1acebca5203",
   "metadata": {},
   "outputs": [],
   "source": []
  }
 ],
 "metadata": {
  "kernelspec": {
   "display_name": "Python [conda env:base] *",
   "language": "python",
   "name": "conda-base-py"
  },
  "language_info": {
   "codemirror_mode": {
    "name": "ipython",
    "version": 3
   },
   "file_extension": ".py",
   "mimetype": "text/x-python",
   "name": "python",
   "nbconvert_exporter": "python",
   "pygments_lexer": "ipython3",
   "version": "3.13.5"
  }
 },
 "nbformat": 4,
 "nbformat_minor": 5
}
