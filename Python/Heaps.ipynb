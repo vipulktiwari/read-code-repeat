{
 "cells": [
  {
   "cell_type": "markdown",
   "id": "a389b55a-c960-4d73-8015-c2d6b4db9819",
   "metadata": {},
   "source": [
    "# Heaps in Python"
   ]
  },
  {
   "cell_type": "markdown",
   "id": "d241068d-fe82-46fd-84e9-caf7c4bfea1f",
   "metadata": {},
   "source": [
    "Instead like BST values are stored in nodes Heaps are stored in array\n",
    "\n",
    "#### Find children of Node n \n",
    "If we leave the 0th index and start from 1st \n",
    "Left child = 2*n\n",
    "\n",
    "Right child = 2*n + 1\n",
    "#### Find parent of Node n\n",
    "Parent of node n = n // 2\n"
   ]
  },
  {
   "cell_type": "code",
   "execution_count": 25,
   "id": "402460d4-8b25-44f5-a55c-5fe08712fb40",
   "metadata": {},
   "outputs": [],
   "source": [
    "class MaxHeap():\n",
    "    def __init__(self):\n",
    "        self.heap = []\n",
    "\n",
    "    def _left_child(self, index):\n",
    "        return 2 * index + 1\n",
    "\n",
    "    def _right_child(self, index):\n",
    "        return 2 * index + 2\n",
    "\n",
    "    def _parent(self, index):\n",
    "        return (index - 1) // 2\n"
   ]
  },
  {
   "cell_type": "markdown",
   "id": "5c502dde-4feb-43a6-833c-944d886871a8",
   "metadata": {},
   "source": [
    "#### Insert in heap\n",
    "for inserting we start by adding the value at the end of array and then swapping with parent until it satisfy the heap condition"
   ]
  },
  {
   "cell_type": "code",
   "execution_count": 20,
   "id": "7cba94db-1dfc-4afa-ab42-a5ceb4bf38a0",
   "metadata": {},
   "outputs": [],
   "source": [
    "class MaxHeap():\n",
    "    def __init__(self):\n",
    "        self.heap = []\n",
    "\n",
    "    def _left_child(self, index):\n",
    "        return 2 * index + 1\n",
    "\n",
    "    def _right_child(self, index):\n",
    "        return 2 * index + 2\n",
    "\n",
    "    def _parent(self, index):\n",
    "        return (index - 1) // 2\n",
    "\n",
    "    def _swap(self, idx1, idx2):\n",
    "        self.heap[idx1] , self.heap[idx2] = self.heap[idx2] , self.heap[idx1]\n",
    "        \n",
    "    def insert(self, value):\n",
    "        self.heap.append(value)\n",
    "        cur_index = len(self.heap) - 1\n",
    "        parent = self._parent(cur_index)\n",
    "\n",
    "        while (cur_index > 0 and self.heap[parent] < self.heap[cur_index]):\n",
    "            self._swap(parent, cur_index)\n",
    "            cur_index = parent\n",
    "            parent = self._parent(cur_index)"
   ]
  },
  {
   "cell_type": "markdown",
   "id": "c4859df8-38b5-4347-8fa6-f514f63b3310",
   "metadata": {},
   "source": [
    "Testing the insert method, Each time we insert max value should be at index 0"
   ]
  },
  {
   "cell_type": "code",
   "execution_count": 21,
   "id": "d7bc4714-17b8-4764-a481-7ee7507c5692",
   "metadata": {},
   "outputs": [
    {
     "name": "stdout",
     "output_type": "stream",
     "text": [
      "[100, 90, 77, 56]\n",
      "[100, 90, 77, 56, 20]\n",
      "[100, 90, 77, 56, 20, 40]\n"
     ]
    }
   ],
   "source": [
    "myheap = MaxHeap()\n",
    "\n",
    "myheap.insert(100)\n",
    "myheap.insert(90)\n",
    "myheap.insert(77)\n",
    "myheap.insert(56)\n",
    "\n",
    "print(myheap.heap)\n",
    "\n",
    "myheap.insert(20)\n",
    "print(myheap.heap)\n",
    "\n",
    "myheap.insert(40)\n",
    "print(myheap.heap)"
   ]
  },
  {
   "cell_type": "code",
   "execution_count": 22,
   "id": "f0110a3d-44aa-4c57-b673-99401878d924",
   "metadata": {},
   "outputs": [
    {
     "name": "stdout",
     "output_type": "stream",
     "text": [
      "[101, 90, 100, 56, 20, 40, 77]\n"
     ]
    }
   ],
   "source": [
    "myheap.insert(101)\n",
    "print(myheap.heap)"
   ]
  },
  {
   "cell_type": "markdown",
   "id": "d1d8370a-1350-4b5f-964f-288f0c8cd44f",
   "metadata": {},
   "source": [
    "#### Delete from heap\n",
    "for deleting we remove the top element and replace the top with the last of the array, Then we sink down the top untill heap conditions not satisfy"
   ]
  },
  {
   "cell_type": "code",
   "execution_count": 30,
   "id": "5b8cd55a-a916-4b57-874a-d39a806f3133",
   "metadata": {},
   "outputs": [],
   "source": [
    "class MaxHeap():\n",
    "    def __init__(self):\n",
    "        self.heap = []\n",
    "\n",
    "    def _left_child(self, index):\n",
    "        return 2 * index + 1\n",
    "\n",
    "    def _right_child(self, index):\n",
    "        return 2 * index + 2\n",
    "\n",
    "    def _parent(self, index):\n",
    "        return (index - 1) // 2\n",
    "\n",
    "    def _swap(self, idx1, idx2):\n",
    "        self.heap[idx1] , self.heap[idx2] = self.heap[idx2] , self.heap[idx1]\n",
    "        \n",
    "    def insert(self, value):\n",
    "        self.heap.append(value)\n",
    "        cur_index = len(self.heap) - 1\n",
    "        parent = self._parent(cur_index)\n",
    "\n",
    "        while (cur_index > 0 and self.heap[parent] < self.heap[cur_index]):\n",
    "            self._swap(parent, cur_index)\n",
    "            cur_index = parent\n",
    "            parent = self._parent(cur_index)\n",
    "            \n",
    "\n",
    "    def _sink_down(self, index):\n",
    "        while True:\n",
    "            max_idx = index\n",
    "            left_idx = self._left_child(index)\n",
    "            right_idx = self._right_child(index)\n",
    "            if left_idx < len(self.heap) and self.heap[left_idx] > self.heap[max_idx]:\n",
    "                max_idx = left_idx\n",
    "                \n",
    "            if right_idx < len(self.heap) and self.heap[right_idx] > self.heap[max_idx]:\n",
    "                max_idx = right_idx           \n",
    "\n",
    "            if index != max_idx:\n",
    "                self._swap(max_idx, index)\n",
    "                index = max_idx\n",
    "            else:\n",
    "                return\n",
    "\n",
    "    def remove(self):\n",
    "        if len(self.heap) == 0:\n",
    "            return None\n",
    "        if len(self.heap) == 1:\n",
    "            return self.heap.pop()\n",
    "\n",
    "        max_value = self.heap[0]\n",
    "        self.heap[0] = self.heap.pop()\n",
    "        self._sink_down(0)\n",
    "        return max_value        "
   ]
  },
  {
   "cell_type": "code",
   "execution_count": 40,
   "id": "781f36f2-3833-48b2-9475-3b4ff2b170ca",
   "metadata": {},
   "outputs": [
    {
     "name": "stdout",
     "output_type": "stream",
     "text": [
      "[100, 90, 77, 56, 20, 40]\n"
     ]
    }
   ],
   "source": [
    "myheap = MaxHeap()\n",
    "myheap.insert(100)\n",
    "myheap.insert(90)\n",
    "myheap.insert(77)\n",
    "myheap.insert(56)\n",
    "myheap.insert(20)\n",
    "myheap.insert(40)\n",
    "print(myheap.heap)"
   ]
  },
  {
   "cell_type": "code",
   "execution_count": 41,
   "id": "109bcfcb-8ca9-4607-aad0-3a8c8e318a6b",
   "metadata": {},
   "outputs": [
    {
     "name": "stdout",
     "output_type": "stream",
     "text": [
      "100\n",
      "90\n",
      "77\n",
      "56\n"
     ]
    }
   ],
   "source": [
    "print(myheap.remove())\n",
    "print(myheap.remove())\n",
    "print(myheap.remove())\n",
    "print(myheap.remove())"
   ]
  },
  {
   "cell_type": "code",
   "execution_count": null,
   "id": "b8f5c456-2f82-4125-8a5f-d93c6b5dd9be",
   "metadata": {},
   "outputs": [],
   "source": []
  },
  {
   "cell_type": "code",
   "execution_count": null,
   "id": "016ca405-7fb3-4f2a-a01c-292428054451",
   "metadata": {},
   "outputs": [],
   "source": []
  },
  {
   "cell_type": "code",
   "execution_count": null,
   "id": "cdd42289-b4c4-442d-af92-7674c6d7503c",
   "metadata": {},
   "outputs": [],
   "source": []
  }
 ],
 "metadata": {
  "kernelspec": {
   "display_name": "Python [conda env:base] *",
   "language": "python",
   "name": "conda-base-py"
  },
  "language_info": {
   "codemirror_mode": {
    "name": "ipython",
    "version": 3
   },
   "file_extension": ".py",
   "mimetype": "text/x-python",
   "name": "python",
   "nbconvert_exporter": "python",
   "pygments_lexer": "ipython3",
   "version": "3.13.5"
  }
 },
 "nbformat": 4,
 "nbformat_minor": 5
}
